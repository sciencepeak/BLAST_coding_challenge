{
 "cells": [
  {
   "cell_type": "code",
   "execution_count": 1,
   "metadata": {},
   "outputs": [],
   "source": [
    "# detect file existence and delete a file\n",
    "# run shell command line to call blast within python\n",
    "import os\n",
    "\n",
    "# for exit command\n",
    "import sys\n",
    "\n",
    "# to calculate arithmatic mean.\n",
    "import statistics\n",
    "\n",
    "# biopython is needed for sequence handling.\n",
    "import Bio\n",
    "\n",
    "# read and write fasta files\n",
    "from Bio import SeqIO\n",
    "\n",
    "# Read the fna and qual files into an SeqRecord iterator provided by the BioPython package.\n",
    "from Bio.SeqIO.QualityIO import PairedFastaQualIterator\n",
    "\n",
    "# Parse the blast result in XML format\n",
    "from Bio.Blast import NCBIXML"
   ]
  },
  {
   "cell_type": "code",
   "execution_count": 2,
   "metadata": {},
   "outputs": [
    {
     "name": "stdout",
     "output_type": "stream",
     "text": [
      "1.74\n"
     ]
    }
   ],
   "source": [
    "print(Bio.__version__)"
   ]
  },
  {
   "cell_type": "code",
   "execution_count": 3,
   "metadata": {},
   "outputs": [],
   "source": [
    "# The answers to first 6 questions will be written to a file called summary.txt in appending mode\n",
    "# So we need to delete the existing file at the beginning.\n",
    "if os.path.isfile(\"./summary.txt\"):\n",
    "    os.remove(\"./summary.txt\")"
   ]
  },
  {
   "cell_type": "code",
   "execution_count": 4,
   "metadata": {},
   "outputs": [],
   "source": [
    "# Read the fna and qual files into an SeqRecord iterator provided by the BioPython package.\n",
    "paired_fasta_qual_iterator = PairedFastaQualIterator(open(\"test.fna\"), open(\"test.qual\"))\n",
    "\n",
    "# The list of SeqRecord object will be used throughout this script.\n",
    "paired_fasta_qual_list = list(paired_fasta_qual_iterator)"
   ]
  },
  {
   "cell_type": "code",
   "execution_count": 5,
   "metadata": {},
   "outputs": [
    {
     "name": "stdout",
     "output_type": "stream",
     "text": [
      "43090\n"
     ]
    }
   ],
   "source": [
    "# Question 01: Total number of reads in the original dataset\n",
    "tally_register_01 = len(paired_fasta_qual_list)\n",
    "print(tally_register_01)\n",
    "\n",
    "current_output_text = \"Total number of reads in the original dataset: \" + str(tally_register_01) + \"\\n\"\n",
    "summary_output_file = open(\"summary.txt\",\"a+t\")\n",
    "summary_output_file.write(current_output_text)\n",
    "summary_output_file.close()"
   ]
  },
  {
   "cell_type": "code",
   "execution_count": 6,
   "metadata": {},
   "outputs": [
    {
     "name": "stdout",
     "output_type": "stream",
     "text": [
      "38638\n"
     ]
    }
   ],
   "source": [
    "# Question 02: Total number of reads greater than 100 bp in the original dataset\n",
    "tally_register_02 = 0\n",
    "\n",
    "for seq_record in paired_fasta_qual_list:\n",
    "    if len(seq_record.seq) > 100:\n",
    "        tally_register_02 += 1\n",
    "print(tally_register_02)\n",
    "\n",
    "current_output_text = \"Total number of reads greater than 100 bp in the original dataset: \" + str(tally_register_02) + \"\\n\"\n",
    "summary_output_file = open(\"summary.txt\",\"a+t\")\n",
    "summary_output_file.write(current_output_text)\n",
    "summary_output_file.close()"
   ]
  },
  {
   "cell_type": "code",
   "execution_count": 7,
   "metadata": {},
   "outputs": [
    {
     "name": "stdout",
     "output_type": "stream",
     "text": [
      "43056\n"
     ]
    }
   ],
   "source": [
    "# Question 03: Total number of reads with average quality scores greater than 20 in the original dataset\n",
    "tally_register_03 = 0\n",
    "\n",
    "for seq_record in paired_fasta_qual_list:\n",
    "    # letter_annotations stores the information of phred quality scores.\n",
    "    phred_scores_of_one_sequence = seq_record.letter_annotations[\"phred_quality\"]\n",
    "    if statistics.mean(phred_scores_of_one_sequence) > 20:\n",
    "        tally_register_03 += 1\n",
    "print(tally_register_03)\n",
    "\n",
    "current_output_text = \"Total number of reads with average quality scores greater than 20 in the original dataset: \" + str(tally_register_03) + \"\\n\"\n",
    "summary_output_file = open(\"summary.txt\",\"a+t\")\n",
    "summary_output_file.write(current_output_text)\n",
    "summary_output_file.close()"
   ]
  },
  {
   "cell_type": "code",
   "execution_count": 8,
   "metadata": {},
   "outputs": [],
   "source": [
    "# Prepare the fasta file of primer sequence\n",
    "# Write the primer sequence to the hard disk so that blast can take it as input.\n",
    "primer_sequence = \"CGCCGTTTCCCAGTAGGTCTC\"\n",
    "primer_header_line = \">primer\"\n",
    "primer_output_file = open(\"primer.fna\", \"wt\")\n",
    "primer_output_file.write(primer_header_line + \"\\n\")\n",
    "primer_output_file.write(primer_sequence + \"\\n\")\n",
    "primer_output_file.close()"
   ]
  },
  {
   "cell_type": "code",
   "execution_count": 9,
   "metadata": {},
   "outputs": [],
   "source": [
    "# Prepare the fasta file of adaptor sequence\n",
    "# Write the adaptor sequence to the hard disk so that blast can take it as input.\n",
    "adaptor_sequence = \"ACTGAGTGGGAGGCAAGGCACACAGGGGATAGG\"\n",
    "adaptor_header_line = \">adaptor\"\n",
    "adaptor_output_file = open(\"adaptor.fna\", \"wt\")\n",
    "adaptor_output_file.write(adaptor_header_line + \"\\n\")\n",
    "adaptor_output_file.write(adaptor_sequence + \"\\n\")\n",
    "adaptor_output_file.close()"
   ]
  },
  {
   "cell_type": "code",
   "execution_count": 10,
   "metadata": {},
   "outputs": [
    {
     "data": {
      "text/plain": [
       "'\\nyou can run a local copy of BLAST on your own computer.\\nThis allows you to create custom local databases and run unlimited queries\\n( limited only by your compute power)\\nInstall BLAST+ from NCBI on your computer\\nhttp://blast.ncbi.nlm.nih.gov/Blast.cgi?PAGE_TYPE=BlastDocs&DOC_TYPE=Download\\n\\noutput format described here\\nhttps://www.ncbi.nlm.nih.gov/books/NBK279684/\\n\\nNo hits found? read this webpage: \\nYou need two more options: -word_size 11 -dust no\\nhttps://bioinformatics.stackexchange.com/questions/4226/blastn-no-hits-found\\n\\nhttps://www.biostars.org/p/198383/\\nSince you are using short queries you should try -task blastn-short with your search. 15 nt is getting awfully close to default word size in blast for nucleotides.\\n\\nHit on both forward and reverse read? Refer to:\\nhttps://www.cureffi.org/2012/12/19/forward-and-reverse-reads-in-paired-end-sequencing/\\n'"
      ]
     },
     "execution_count": 10,
     "metadata": {},
     "output_type": "execute_result"
    }
   ],
   "source": [
    "\"\"\"\n",
    "you can run a local copy of BLAST on your own computer.\n",
    "This allows you to create custom local databases and run unlimited queries\n",
    "( limited only by your compute power)\n",
    "Install BLAST+ from NCBI on your computer\n",
    "http://blast.ncbi.nlm.nih.gov/Blast.cgi?PAGE_TYPE=BlastDocs&DOC_TYPE=Download\n",
    "\n",
    "output format described here\n",
    "https://www.ncbi.nlm.nih.gov/books/NBK279684/\n",
    "\n",
    "No hits found? read this webpage: \n",
    "You need two more options: -word_size 11 -dust no\n",
    "https://bioinformatics.stackexchange.com/questions/4226/blastn-no-hits-found\n",
    "\n",
    "https://www.biostars.org/p/198383/\n",
    "Since you are using short queries you should try -task blastn-short with your search. 15 nt is getting awfully close to default word size in blast for nucleotides.\n",
    "\n",
    "Hit on both forward and reverse read? Refer to:\n",
    "https://www.cureffi.org/2012/12/19/forward-and-reverse-reads-in-paired-end-sequencing/\n",
    "\"\"\""
   ]
  },
  {
   "cell_type": "code",
   "execution_count": 11,
   "metadata": {},
   "outputs": [
    {
     "data": {
      "text/plain": [
       "0"
      ]
     },
     "execution_count": 11,
     "metadata": {},
     "output_type": "execute_result"
    }
   ],
   "source": [
    "# Use python os.system to call command line to run blast locally.\n",
    "\n",
    "# Make local database. Subject sequences arise from test.fna\n",
    "blast_makeblastdb_command = \"makeblastdb -dbtype nucl -input_type fasta -in test.fna\"\n",
    "os.system(blast_makeblastdb_command)\n",
    "\n",
    "# Run blast. Query is primer sequence. Subject is the read sequences.\n",
    "# outfmt 5 is to produce xml output for biopython to parse easily\n",
    "# outfmt 6 is to produce xml output for human to read easily\n",
    "blast_blastn_command = \"blastn -out primer_blast_result.xml -outfmt 5 -query primer.fna -db test.fna -evalue 0.001 -task blastn-short -dust no\"\n",
    "os.system(blast_blastn_command)\n",
    "blast_blastn_command = \"blastn -out primer_blast_result.txt -outfmt 6 -query primer.fna -db test.fna -evalue 0.001 -task blastn-short -dust no\"\n",
    "os.system(blast_blastn_command)\n",
    "\n",
    "# Run blast. Query is adaptor sequence. Subject is the read sequences.\n",
    "blast_blastn_command = \"blastn -out adaptor_blast_result.xml -outfmt 5 -query adaptor.fna -db test.fna -evalue 0.001 -task blastn-short -dust no\"\n",
    "os.system(blast_blastn_command)\n",
    "blast_blastn_command = \"blastn -out adaptor_blast_result.txt -outfmt 6 -query adaptor.fna -db test.fna -evalue 0.001 -task blastn-short -dust no\"\n",
    "os.system(blast_blastn_command)"
   ]
  },
  {
   "cell_type": "code",
   "execution_count": 12,
   "metadata": {},
   "outputs": [],
   "source": [
    "# Question 04: Total number of reads with primer sequences\n",
    "# Parse the primer blastn result using modules in biopython\n",
    "primer_result_handle = open(\"primer_blast_result.xml\")\n",
    "primer_blast_record = NCBIXML.read(primer_result_handle)\n",
    "tally_register_04 = len(primer_blast_record.alignments)\n",
    "primer_result_handle.close()\n",
    "\n",
    "current_output_text = \"Total number of reads with primer sequences: \" + str(tally_register_04) + \"\\n\"\n",
    "summary_output_file = open(\"summary.txt\",\"a+t\")\n",
    "summary_output_file.write(current_output_text)\n",
    "summary_output_file.close()"
   ]
  },
  {
   "cell_type": "code",
   "execution_count": 13,
   "metadata": {},
   "outputs": [],
   "source": [
    "# Question 05: Total number of reads with adaptor sequences\n",
    "# Parse the adaptor blastn result using modules in biopython\n",
    "adaptor_result_handle = open(\"adaptor_blast_result.xml\")\n",
    "adaptor_blast_record = NCBIXML.read(adaptor_result_handle)\n",
    "tally_register_05 = len(adaptor_blast_record.alignments)\n",
    "adaptor_result_handle.close()\n",
    "\n",
    "current_output_text = \"Total number of reads with adaptor sequences: \" + str(tally_register_05) + \"\\n\"\n",
    "summary_output_file = open(\"summary.txt\",\"a+t\")\n",
    "summary_output_file.write(current_output_text)\n",
    "summary_output_file.close()"
   ]
  },
  {
   "cell_type": "code",
   "execution_count": 14,
   "metadata": {},
   "outputs": [],
   "source": [
    "# Question 06: Total number of reads with both primer and adaptor sequences\n",
    "primer_hit_reads_IDs = [x.title for x in primer_blast_record.descriptions]\n",
    "adaptor_hit_reads_IDs = [x.title for x in adaptor_blast_record.descriptions]\n",
    "\n",
    "# let's find the intersection of the two list:\n",
    "tally_register_06 = len(list(set(primer_hit_reads_IDs) & set(adaptor_hit_reads_IDs)))\n",
    "\n",
    "current_output_text = \"Total number of reads with both primer and adaptor sequences: \" + str(tally_register_06) + \"\\n\"\n",
    "summary_output_file = open(\"summary.txt\",\"a+t\")\n",
    "summary_output_file.write(current_output_text)\n",
    "summary_output_file.close()"
   ]
  },
  {
   "cell_type": "code",
   "execution_count": 15,
   "metadata": {},
   "outputs": [
    {
     "data": {
      "text/plain": [
       "'\\nIn legacy BLAST, the tabular output is called -m 8. \\nIn BLAST+, the tablular output is called -outfmt 6\\nPlease refer to https://github.com/seqan/lambda/wiki/BLAST-Output-Formats\\nThis question has been addressed in the previous blastn part.\\n'"
      ]
     },
     "execution_count": 15,
     "metadata": {},
     "output_type": "execute_result"
    }
   ],
   "source": [
    "# Additional question 01: generate the following files: Blast output file in the table format.\n",
    "\"\"\"\n",
    "In legacy BLAST, the tabular output is called -m 8. \n",
    "In BLAST+, the tablular output is called -outfmt 6\n",
    "Please refer to https://github.com/seqan/lambda/wiki/BLAST-Output-Formats\n",
    "This question has been addressed in the previous blastn part.\n",
    "\"\"\""
   ]
  },
  {
   "cell_type": "code",
   "execution_count": 16,
   "metadata": {},
   "outputs": [],
   "source": [
    "# Addition question 02: generate the following files:\n",
    "# Fasta file containing reads greater than 100bp, average read quality scores greater than 20, primers and adaptors trimmed.\n",
    "# The question can be split into two steps.\n",
    "# First step we trim the reads. Second step we filter the reads."
   ]
  },
  {
   "cell_type": "code",
   "execution_count": 17,
   "metadata": {},
   "outputs": [],
   "source": [
    "# To trim the reads, we define a function to get a list that contains a list of hit alignments on a read.\n",
    "def get_hsps_list(a_seq_record, a_hit_def_list, a_blast_record):\n",
    "    \n",
    "    # seq_record.description is the comlete read identifier in the fna file\n",
    "    # for example: GGBKTAO02CGUTT length=207 xy=0894_3967 region=2 run=R_2010_04_28_09_04_12_\n",
    "    \n",
    "    \"\"\"\n",
    "    HSP (high-scoring pair) represents region(s) in the hit sequence that contains significant alignment(s) to the query sequence.\n",
    "    It contains the actual match between your query sequence and a database entry.\n",
    "    For more information about HSP, please refer to biopython official tutorial documentation.\n",
    "    Hereafter, multiple HSP, namely HSPs or hsps are used.\n",
    "    \"\"\"\n",
    "    \n",
    "    seq_id_index = a_hit_def_list.index(a_seq_record.description)\n",
    "    hsps_list = a_blast_record.alignments[seq_id_index].hsps\n",
    "    \n",
    "    if len(hsps_list) > 2:\n",
    "        sys.exit(\"There are more than 2 hits on one subject sequence. That doesn't happen in this test data set!\")\n",
    "    \n",
    "    return hsps_list"
   ]
  },
  {
   "cell_type": "code",
   "execution_count": 18,
   "metadata": {},
   "outputs": [],
   "source": [
    "# Input a list of alignment objects, retrieve the slice ranges and return the slice ranges as a sorted list that contains 1 or 2 list element(s)\n",
    "def get_slice_range(a_hsps_list):\n",
    "    \n",
    "    slice_range_list = []\n",
    "    for a_hsp_obj in a_hsps_list:\n",
    "        slice_start = a_hsp_obj.sbjct_start\n",
    "        slice_end = a_hsp_obj.sbjct_end\n",
    "        \n",
    "        # print(slice_start, slice_end)\n",
    "        slice_range_list.append([slice_start, slice_end])\n",
    "        \n",
    "    sorted_slice_range_list = sorted(slice_range_list, key = statistics.mean)\n",
    "\n",
    "    return sorted_slice_range_list"
   ]
  },
  {
   "cell_type": "code",
   "execution_count": 19,
   "metadata": {},
   "outputs": [],
   "source": [
    "# Given a list of 1 or 2 slice ranges, trim the read in SeqRecord object, and return the SeqRecord object with its sequence trimmed.\n",
    "def get_trimmed_seq(a_slice_range_list, a_seq_record):\n",
    "    \n",
    "    # First consider only one alignment per subject read sequence\n",
    "    if len(a_slice_range_list) == 1:\n",
    "        alignment_01_left = a_slice_range_list[0][0]\n",
    "        alignment_01_right = a_slice_range_list[0][1]\n",
    "\n",
    "        \"\"\"\n",
    "        We need to discuss two cases of which strand the primer or adaptor hits on:\n",
    "        (1) +: we keep -->|  |\n",
    "        (2) -: we keep |  |<--\n",
    "        \"\"\"\n",
    "\n",
    "        # case (1): hit on forward read\n",
    "        if alignment_01_left < alignment_01_right:\n",
    "            if (alignment_01_left + alignment_01_right) / 2 <= len(a_seq_record) / 2:\n",
    "                # print(\"The only one hit is on the left half of the read sequence\")\n",
    "                trimmed_seq_record = a_seq_record[alignment_01_right: ]\n",
    "            else:\n",
    "                # print(\"The only one hit is on the right half of the read sequence\")\n",
    "                trimmed_seq_record = a_seq_record[: alignment_01_left -1]\n",
    "                \n",
    "        # case(2): hit on reverse read\n",
    "        else:\n",
    "            if (alignment_01_left + alignment_01_right) / 2 <= len(a_seq_record) / 2:\n",
    "                # print(\"The only one hit is on the left half of the read sequence\")\n",
    "                trimmed_seq_record = a_seq_record[alignment_01_left: ]\n",
    "            else:\n",
    "                # print(\"The only one hit is on the right half of the read sequence\")\n",
    "                trimmed_seq_record = a_seq_record[: alignment_01_right -1]\n",
    "    \n",
    "        # print(alignment_01_left, alignment_01_right)\n",
    "    \n",
    "    \n",
    "    # Now consider only two alignments per subject read sequence\n",
    "    if len(a_slice_range_list) == 2:\n",
    "        alignment_01_left = a_slice_range_list[0][0]\n",
    "        alignment_01_right = a_slice_range_list[0][1]\n",
    "        alignment_02_left = a_slice_range_list[1][0]\n",
    "        alignment_02_right = a_slice_range_list[1][1]\n",
    "\n",
    "        \"\"\"\n",
    "        We need to discuss four cases of which strand the primer or adaptor hits on:\n",
    "        (1) ++: we keep -->|  |-->\n",
    "        (2) +-: we keep -->|  |<--\n",
    "        (3) -+: we keep <--|  |-->\n",
    "        (4) --: we keep <--|  |<--\n",
    "        \"\"\"\n",
    "\n",
    "        # case (1): forword strand and forward strand\n",
    "        if alignment_01_left < alignment_01_right and alignment_02_left < alignment_02_right:\n",
    "            trimmed_seq_record = a_seq_record[alignment_01_right: alignment_02_left -1]\n",
    "\n",
    "        # case (2): forword strand and reverse strand\n",
    "        if alignment_01_left < alignment_01_right and alignment_02_left > alignment_02_right:\n",
    "            trimmed_seq_record = a_seq_record[alignment_01_right: alignment_02_right -1]\n",
    "\n",
    "        # case (3): reverse strand and forword strand\n",
    "        if alignment_01_left > alignment_01_right and alignment_02_left < alignment_02_right:\n",
    "            trimmed_seq_record = a_seq_record[alignment_01_left: alignment_02_left -1]\n",
    "\n",
    "        # case (4): reverse strand and reverse strand\n",
    "        if alignment_01_left > alignment_01_right and alignment_02_left > alignment_02_right:\n",
    "            trimmed_seq_record = a_seq_record[alignment_01_left: alignment_02_right -1]\n",
    "\n",
    "        # print(alignment_01_left, alignment_01_right, alignment_02_left, alignment_02_right)\n",
    "    # print(\"The length of original read sequence is: \", len(a_seq_record))\n",
    "    # print(\"The length of trimmed read sequence is: \", len(trimmed_seq_record))\n",
    "    return trimmed_seq_record"
   ]
  },
  {
   "cell_type": "code",
   "execution_count": 20,
   "metadata": {},
   "outputs": [
    {
     "name": "stdout",
     "output_type": "stream",
     "text": [
      "93 407 407 42183\n",
      "43090\n",
      "43090\n",
      "43090\n"
     ]
    }
   ],
   "source": [
    "# First step: get primers and adaptors trimmed.\n",
    "\n",
    "# first get a list of read IDs (comlete read identifier in the fna file) for all hit with primer or adaptor.\n",
    "primer_hit_def_list = [x.hit_def for x in primer_blast_record.alignments]\n",
    "adaptor_hit_def_list = [x.hit_def for x in adaptor_blast_record.alignments]\n",
    "# print(len(primer_hit_def_list), len(adaptor_hit_def_list))\n",
    "\n",
    "# set a series of counters to see whether the script runs correctly.\n",
    "c1 = 0\n",
    "c2 = 0\n",
    "c3 = 0\n",
    "c4 = 0\n",
    "\n",
    "# Append the read ID, primer hit range, and primer hit range to an accumulation list.\n",
    "# This list is for the additional question 03 later.\n",
    "all_hit_range_list = []\n",
    "\n",
    "# Append the trimmed requence into an accumulation list.\n",
    "trimmed_paired_fasta_qual_list = []\n",
    "\n",
    "for seq_record in paired_fasta_qual_list:\n",
    "    \n",
    "    # seq_record.description is the comlete read identifier in the fna file\n",
    "    # for example: GGBKTAO02CGUTT length=207 xy=0894_3967 region=2 run=R_2010_04_28_09_04_12_\n",
    "    \n",
    "    condition_primer_exist = seq_record.description in primer_hit_def_list\n",
    "    condition_adaptor_exist = seq_record.description in adaptor_hit_def_list\n",
    "    \n",
    "    \"\"\"\n",
    "    To trim a read requence, there are four cases to discuss\n",
    "    (1) primer exists and adaptor exists\n",
    "    (2) primer exists and adaptor doesn't exist\n",
    "    (3) primer doesn't exist and adaptor exists\n",
    "    (4) primer doesn't exist and adaptor doesn't exist\n",
    "    \"\"\"\n",
    "    \n",
    "    # case (1): primer exists and adaptor exists\n",
    "    if condition_primer_exist == True and condition_adaptor_exist == True:\n",
    "\n",
    "        current_primer_hsps_list = get_hsps_list(seq_record, primer_hit_def_list, primer_blast_record)\n",
    "        current_primer_slice_range_list = get_slice_range(current_primer_hsps_list)\n",
    "        \n",
    "        if len(current_primer_slice_range_list) > 1:\n",
    "            sys.exit(\"There are at least 2 primer hits and at least 1 adaptor hit on one subject sequence. That doesn't happen in this test data set!\")\n",
    "        \n",
    "        current_adaptor_hsps_list = get_hsps_list(seq_record, adaptor_hit_def_list, adaptor_blast_record)\n",
    "        current_adaptor_slice_range_list = get_slice_range(current_adaptor_hsps_list)\n",
    "        \n",
    "        if len(current_adaptor_slice_range_list) > 1:\n",
    "            sys.exit(\"There are at least 1 primer hit and at least 2 adaptor hit on one subject sequence. That doesn't happen in this test data set!\")\n",
    "        \n",
    "        primer_and_adaptor_slice_range_list = current_primer_slice_range_list + current_adaptor_slice_range_list\n",
    "        sorted_slice_range_list = sorted(primer_and_adaptor_slice_range_list, key = statistics.mean)\n",
    "        # print(len(sorted_slice_range_list))\n",
    "        # print(sorted_slice_range_list)\n",
    "        \n",
    "        if len(sorted_slice_range_list) > 2:\n",
    "            sys.exit(\"There are more than 2 primer or adaptor hits simultaneously on one subject sequence. That doesn't happen in this test data set!\")\n",
    "        \n",
    "        current_trimmed_seq_record = get_trimmed_seq(sorted_slice_range_list, seq_record)\n",
    "        \n",
    "        current_hit_info_list = [seq_record.description, current_primer_slice_range_list, current_adaptor_slice_range_list]\n",
    "        \n",
    "        all_hit_range_list.append(current_hit_info_list)\n",
    "        \n",
    "        c1 += 1\n",
    "        \n",
    "    # case (2): primer exists and adaptor doesn't exist\n",
    "    if condition_primer_exist == True and condition_adaptor_exist == False:\n",
    "\n",
    "        current_primer_hsps_list = get_hsps_list(seq_record, primer_hit_def_list, primer_blast_record)\n",
    "        current_primer_slice_range_list = get_slice_range(current_primer_hsps_list)\n",
    "        \n",
    "        sorted_slice_range_list = sorted(current_primer_slice_range_list, key = statistics.mean)\n",
    "        # print(len(sorted_slice_range_list))\n",
    "        # print(sorted_slice_range_list)\n",
    "        \n",
    "        if len(sorted_slice_range_list) > 2:\n",
    "            sys.exit(\"There are more than 2 primer hits on one subject sequence. That doesn't happen in this test data set!\")\n",
    "        \n",
    "        current_trimmed_seq_record = get_trimmed_seq(sorted_slice_range_list, seq_record)\n",
    "        \n",
    "        current_hit_info_list = [seq_record.description, current_primer_slice_range_list, \"NA\"]\n",
    "        \n",
    "        all_hit_range_list.append(current_hit_info_list)\n",
    "        \n",
    "        c2 += 1\n",
    "        \n",
    "    # case (3): primer doesn't exist and adaptor exists\n",
    "    if condition_primer_exist == False and condition_adaptor_exist == True:\n",
    "\n",
    "        current_adaptor_hsps_list = get_hsps_list(seq_record, adaptor_hit_def_list, adaptor_blast_record)\n",
    "        current_adaptor_slice_range_list = get_slice_range(current_adaptor_hsps_list)\n",
    "        \n",
    "        sorted_slice_range_list = sorted(current_adaptor_slice_range_list, key = statistics.mean)\n",
    "        # print(len(sorted_slice_range_list))\n",
    "        # print(sorted_slice_range_list)\n",
    "        \n",
    "        if len(sorted_slice_range_list) > 1:\n",
    "            sys.exit(\"There are more than 1 adaptor hits on one subject sequence. That doesn't happen in this test data set!\")\n",
    "        \n",
    "        current_trimmed_seq_record = get_trimmed_seq(sorted_slice_range_list, seq_record)\n",
    "        \n",
    "        current_hit_info_list = [seq_record.description, \"NA\", current_adaptor_slice_range_list]\n",
    "        \n",
    "        all_hit_range_list.append(current_hit_info_list)\n",
    "        c3 += 1\n",
    "    \n",
    "    # case (4): primer doesn't exist and adaptor doesn't exist\n",
    "    if condition_primer_exist == False and condition_adaptor_exist == False:\n",
    "        \n",
    "        current_trimmed_seq_record = seq_record\n",
    "        \n",
    "        current_hit_info_list = [seq_record.description, \"NA\", \"NA\"]\n",
    "        \n",
    "        all_hit_range_list.append(current_hit_info_list)\n",
    "        \n",
    "        c4 += 1\n",
    "        \n",
    "    trimmed_paired_fasta_qual_list.append(current_trimmed_seq_record)\n",
    "\n",
    "print(c1, c2, c3, c4)\n",
    "print(c1+c2+c3+c4)\n",
    "print(len(trimmed_paired_fasta_qual_list))\n",
    "print(len(all_hit_range_list))"
   ]
  },
  {
   "cell_type": "code",
   "execution_count": 21,
   "metadata": {},
   "outputs": [
    {
     "name": "stdout",
     "output_type": "stream",
     "text": [
      "38612\n",
      "38612\n"
     ]
    }
   ],
   "source": [
    "# Second step: filter fasta files that containing reads greater than 100bp, average read quality scores greater than 20\n",
    "tally_register_filter = 0\n",
    "\n",
    "# append the filtered requence into an accumulation list.\n",
    "filtered_trimmed_paired_fasta_qual_list = []\n",
    "\n",
    "for seq_record in trimmed_paired_fasta_qual_list:\n",
    "    \n",
    "    condition_read_length = len(seq_record.seq) > 100\n",
    "    \n",
    "    phred_scores_of_one_sequence = seq_record.letter_annotations[\"phred_quality\"]\n",
    "    condition_quality_scores = statistics.mean(phred_scores_of_one_sequence) > 20\n",
    "    \n",
    "    if condition_read_length and condition_quality_scores:\n",
    "        tally_register_filter +=1\n",
    "        filtered_trimmed_paired_fasta_qual_list.append(seq_record)\n",
    "\n",
    "print(tally_register_filter)\n",
    "print(len(filtered_trimmed_paired_fasta_qual_list))"
   ]
  },
  {
   "cell_type": "code",
   "execution_count": 22,
   "metadata": {},
   "outputs": [
    {
     "data": {
      "text/plain": [
       "38612"
      ]
     },
     "execution_count": 22,
     "metadata": {},
     "output_type": "execute_result"
    }
   ],
   "source": [
    "# Now we have a list of SeqRecord objects, we'll write them to a FASTA format file.\n",
    "# Addition question 02: generate the following files is finished now!!!\n",
    "# Fasta file containing reads greater than 100bp, average read quality scores greater than 20, primers and adaptors trimmed.\n",
    "SeqIO.write(filtered_trimmed_paired_fasta_qual_list, \"filtered_trimmed_test.fna\", \"fasta\")"
   ]
  },
  {
   "cell_type": "code",
   "execution_count": 23,
   "metadata": {},
   "outputs": [
    {
     "name": "stdout",
     "output_type": "stream",
     "text": [
      "GGBKTAO02CAVTO length=161 xy=0826_3850 region=2 run=R_2010_04_28_09_04_12_\tNA\tNA\tNA\tNA\tNA\tNA\n",
      "93 407 407 42183\n",
      "43090\n",
      "43090\n"
     ]
    }
   ],
   "source": [
    "# Addition quation 03: Tab de-limited text file containing the read identifiers along with the starting and end positions of the primer and/or adaptor sequences.\n",
    "\n",
    "\"\"\"\n",
    "To print the addition question 3 to tab-delimited text file prettily, there are four cases to discuss\n",
    "(1) primer exists and adaptor exists\n",
    "(2) primer exists and adaptor doesn't exist\n",
    "(3) primer doesn't exist and adaptor exists\n",
    "(4) primer doesn't exist and adaptor doesn't exist\n",
    "\n",
    "To output each sequence record, we need a list, elements of which are 7 strings.\n",
    "7 strings make up the header lines.\n",
    "read_id, primer_hit_01_start, primer_hit_01_end, primer_hit_02_start, primer_hit_02_end, adaptor_hit_start, adaptor_hit_end\n",
    "\n",
    "\"\"\"\n",
    "\n",
    "# set a series of counters to monitor the script running.\n",
    "c1 = 0\n",
    "c2 = 0\n",
    "c3 = 0\n",
    "c4 = 0\n",
    "\n",
    "# create an accumulation list to print the information of each sequence record and hits\n",
    "id_primer_adaptor_output_list = []\n",
    "\n",
    "for current_hit_range_list in all_hit_range_list:\n",
    "    \n",
    "    # case (1): primer exists and adaptor exists\n",
    "    if type(current_hit_range_list[1]) == list and type(current_hit_range_list[2]) == list:\n",
    "        \n",
    "        read_id = current_hit_range_list[0]\n",
    "        primer_hit_01_start = str(current_hit_range_list[1][0][0])\n",
    "        primer_hit_01_end = str(current_hit_range_list[1][0][1])\n",
    "        primer_hit_02_start = \"NA\"\n",
    "        primer_hit_02_end = \"NA\"\n",
    "        adaptor_hit_start = str(current_hit_range_list[2][0][0])\n",
    "        adaptor_hit_end = str(current_hit_range_list[2][0][1])\n",
    "        \n",
    "        c1 += 1\n",
    "    \n",
    "    # case (2): primer exists and adaptor doesn't exist\n",
    "    if type(current_hit_range_list[1]) == list and type(current_hit_range_list[2]) != list:\n",
    "        \n",
    "        # When there is only one primer hit on the subject read sequence.\n",
    "        if len(current_hit_range_list[1]) == 1:\n",
    "            \n",
    "            read_id = current_hit_range_list[0]\n",
    "            primer_hit_01_start = str(current_hit_range_list[1][0][0])\n",
    "            primer_hit_01_end = str(current_hit_range_list[1][0][1])\n",
    "            primer_hit_02_start = \"NA\"\n",
    "            primer_hit_02_end = \"NA\"\n",
    "            adaptor_hit_start = \"NA\"\n",
    "            adaptor_hit_end = \"NA\"\n",
    "            \n",
    "        # When there are only two primer hit on the subject read sequence.\n",
    "        if len(current_hit_range_list[1]) == 2:\n",
    "            \n",
    "            read_id = current_hit_range_list[0]\n",
    "            primer_hit_01_start = str(current_hit_range_list[1][0][0])\n",
    "            primer_hit_01_end = str(current_hit_range_list[1][0][1])\n",
    "            primer_hit_02_start = str(current_hit_range_list[1][1][0])\n",
    "            primer_hit_02_end = str(current_hit_range_list[1][1][1])\n",
    "            adaptor_hit_start = \"NA\"\n",
    "            adaptor_hit_end = \"NA\"\n",
    "            \n",
    "        c2 += 1\n",
    "        \n",
    "    # case (3): primer doesn't exist and adaptor exists\n",
    "    if type(current_hit_range_list[1]) != list and type(current_hit_range_list[2]) == list:\n",
    "        \n",
    "        read_id = current_hit_range_list[0]\n",
    "        primer_hit_01_start = \"NA\"\n",
    "        primer_hit_01_end = \"NA\"\n",
    "        primer_hit_02_start = \"NA\"\n",
    "        primer_hit_02_end = \"NA\"\n",
    "        adaptor_hit_start = str(current_hit_range_list[2][0][0])\n",
    "        adaptor_hit_end = str(current_hit_range_list[2][0][1])\n",
    "        \n",
    "        c3 += 1\n",
    "        \n",
    "    # case (4): primer doesn't exist and adaptor doesn't exist\n",
    "    if type(current_hit_range_list[1]) != list and type(current_hit_range_list[2]) != list:\n",
    "        \n",
    "        read_id = current_hit_range_list[0]\n",
    "        primer_hit_01_start = \"NA\"\n",
    "        primer_hit_01_end = \"NA\"\n",
    "        primer_hit_02_start = \"NA\"\n",
    "        primer_hit_02_end = \"NA\"\n",
    "        adaptor_hit_start = \"NA\"\n",
    "        adaptor_hit_end = \"NA\"\n",
    "        \n",
    "        c4 += 1\n",
    "        \n",
    "    current_string_output = \"\\t\". join([read_id, primer_hit_01_start, primer_hit_01_end, primer_hit_02_start, primer_hit_02_end, adaptor_hit_start, adaptor_hit_end])\n",
    "    id_primer_adaptor_output_list.append(current_string_output)\n",
    "\n",
    "print(current_string_output)\n",
    "print(c1, c2, c3, c4)\n",
    "print(c1+c2+c3+c4)\n",
    "print(len(id_primer_adaptor_output_list))"
   ]
  },
  {
   "cell_type": "code",
   "execution_count": 24,
   "metadata": {},
   "outputs": [],
   "source": [
    "# Addition quation 03: Tab de-limited text file containing the read identifiers along with the starting and end positions of the primer and/or adaptor sequences. Now the final output is written to the hard disk.\n",
    "\n",
    "id_primer_adaptor_header_line = \"\\t\". join([\"read_id\", \"primer_hit_01_start\", \"primer_hit_01_end\", \"primer_hit_02_start\", \"primer_hit_02_end\", \"adaptor_hit_start\", \"adaptor_hit_end\"])\n",
    "\n",
    "id_primer_adaptor_output_file = open(\"read_id_primer_adaptor_hit.txt\", \"wt\")\n",
    "\n",
    "id_primer_adaptor_output_file.write(id_primer_adaptor_header_line + \"\\n\")\n",
    "\n",
    "for id_primer_adaptor_string in id_primer_adaptor_output_list:\n",
    "    id_primer_adaptor_output_file.write(id_primer_adaptor_string + \"\\n\")\n",
    "id_primer_adaptor_output_file.close()"
   ]
  }
 ],
 "metadata": {
  "kernelspec": {
   "display_name": "Python 3",
   "language": "python",
   "name": "python3"
  },
  "language_info": {
   "codemirror_mode": {
    "name": "ipython",
    "version": 3
   },
   "file_extension": ".py",
   "mimetype": "text/x-python",
   "name": "python",
   "nbconvert_exporter": "python",
   "pygments_lexer": "ipython3",
   "version": "3.7.4"
  }
 },
 "nbformat": 4,
 "nbformat_minor": 4
}
